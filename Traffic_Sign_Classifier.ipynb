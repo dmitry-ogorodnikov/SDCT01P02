{
 "cells": [
  {
   "cell_type": "markdown",
   "metadata": {},
   "source": [
    "# Self-Driving Car Engineer Nanodegree\n",
    "\n",
    "## Deep Learning\n",
    "\n",
    "## Project: Build a Traffic Sign Recognition Classifier\n",
    "\n",
    "In this notebook, a template is provided for you to implement your functionality in stages, which is required to successfully complete this project. If additional code is required that cannot be included in the notebook, be sure that the Python code is successfully imported and included in your submission if necessary. \n",
    "\n",
    "> **Note**: Once you have completed all of the code implementations, you need to finalize your work by exporting the iPython Notebook as an HTML document. Before exporting the notebook to html, all of the code cells need to have been run so that reviewers can see the final implementation and output. You can then export the notebook by using the menu above and navigating to  \\n\",\n",
    "    \"**File -> Download as -> HTML (.html)**. Include the finished document along with this notebook as your submission. \n",
    "\n",
    "In addition to implementing code, there is a writeup to complete. The writeup should be completed in a separate file, which can be either a markdown file or a pdf document. There is a [write up template](https://github.com/udacity/CarND-Traffic-Sign-Classifier-Project/blob/master/writeup_template.md) that can be used to guide the writing process. Completing the code template and writeup template will cover all of the [rubric points](https://review.udacity.com/#!/rubrics/481/view) for this project.\n",
    "\n",
    "The [rubric](https://review.udacity.com/#!/rubrics/481/view) contains \"Stand Out Suggestions\" for enhancing the project beyond the minimum requirements. The stand out suggestions are optional. If you decide to pursue the \"stand out suggestions\", you can include the code in this Ipython notebook and also discuss the results in the writeup file.\n",
    "\n",
    "\n",
    ">**Note:** Code and Markdown cells can be executed using the **Shift + Enter** keyboard shortcut. In addition, Markdown cells can be edited by typically double-clicking the cell to enter edit mode."
   ]
  },
  {
   "cell_type": "markdown",
   "metadata": {},
   "source": [
    "---\n",
    "## Step 0: Load The Data"
   ]
  },
  {
   "cell_type": "code",
   "execution_count": 1,
   "metadata": {
    "collapsed": true
   },
   "outputs": [],
   "source": [
    "# Load pickled data\n",
    "import pickle\n",
    "\n",
    "# TODO: Fill this in based on where you saved the training and testing data\n",
    "\n",
    "training_file = \"train.p\"\n",
    "validation_file = \"valid.p\"\n",
    "testing_file = \"test.p\"\n",
    "\n",
    "with open(training_file, mode='rb') as f:\n",
    "    train = pickle.load(f)\n",
    "with open(validation_file, mode='rb') as f:\n",
    "    valid = pickle.load(f)\n",
    "with open(testing_file, mode='rb') as f:\n",
    "    test = pickle.load(f)\n",
    "    \n",
    "X_train, y_train = train['features'], train['labels']\n",
    "X_valid, y_valid = valid['features'], valid['labels']\n",
    "X_test, y_test = test['features'], test['labels']"
   ]
  },
  {
   "cell_type": "markdown",
   "metadata": {},
   "source": [
    "---\n",
    "\n",
    "## Step 1: Dataset Summary & Exploration\n",
    "\n",
    "The pickled data is a dictionary with 4 key/value pairs:\n",
    "\n",
    "- `'features'` is a 4D array containing raw pixel data of the traffic sign images, (num examples, width, height, channels).\n",
    "- `'labels'` is a 1D array containing the label/class id of the traffic sign. The file `signnames.csv` contains id -> name mappings for each id.\n",
    "- `'sizes'` is a list containing tuples, (width, height) representing the original width and height the image.\n",
    "- `'coords'` is a list containing tuples, (x1, y1, x2, y2) representing coordinates of a bounding box around the sign in the image. **THESE COORDINATES ASSUME THE ORIGINAL IMAGE. THE PICKLED DATA CONTAINS RESIZED VERSIONS (32 by 32) OF THESE IMAGES**\n",
    "\n",
    "Complete the basic data summary below. Use python, numpy and/or pandas methods to calculate the data summary rather than hard coding the results. For example, the [pandas shape method](http://pandas.pydata.org/pandas-docs/stable/generated/pandas.DataFrame.shape.html) might be useful for calculating some of the summary results. "
   ]
  },
  {
   "cell_type": "markdown",
   "metadata": {},
   "source": [
    "### Provide a Basic Summary of the Data Set Using Python, Numpy and/or Pandas"
   ]
  },
  {
   "cell_type": "code",
   "execution_count": 2,
   "metadata": {},
   "outputs": [
    {
     "name": "stdout",
     "output_type": "stream",
     "text": [
      "Number of training examples = 34799\n",
      "Number of validation examples = 4410\n",
      "Number of testing examples = 12630\n",
      "Image data shape = [32, 32, 3]\n",
      "Number of classes = 43\n"
     ]
    }
   ],
   "source": [
    "### Replace each question mark with the appropriate value. \n",
    "### Use python, pandas or numpy methods rather than hard coding the results\n",
    "\n",
    "import numpy as np\n",
    "\n",
    "# TODO: Number of training examples\n",
    "n_train = X_train.shape[0]\n",
    "\n",
    "# TODO: Number of validation examples\n",
    "n_valid = X_valid.shape[0]\n",
    "\n",
    "# TODO: Number of testing examples.\n",
    "n_test = X_test.shape[0]\n",
    "\n",
    "# TODO: What's the shape of an traffic sign image?\n",
    "image_shape = [X_train.shape[1], X_train.shape[2], X_train.shape[3]]\n",
    "\n",
    "# TODO: How many unique classes/labels there are in the dataset.\n",
    "n_classes = np.unique(y_train).shape[0]\n",
    "\n",
    "print(\"Number of training examples =\", n_train)\n",
    "print(\"Number of validation examples =\", n_valid)\n",
    "print(\"Number of testing examples =\", n_test)\n",
    "print(\"Image data shape =\", image_shape)\n",
    "print(\"Number of classes =\", n_classes)"
   ]
  },
  {
   "cell_type": "markdown",
   "metadata": {},
   "source": [
    "### Include an exploratory visualization of the dataset"
   ]
  },
  {
   "cell_type": "markdown",
   "metadata": {},
   "source": [
    "Visualize the German Traffic Signs Dataset using the pickled file(s). This is open ended, suggestions include: plotting traffic sign images, plotting the count of each sign, etc.\n",
    "\n",
    "The [Matplotlib](http://matplotlib.org/) [examples](http://matplotlib.org/examples/index.html) and [gallery](http://matplotlib.org/gallery.html) pages are a great resource for doing visualizations in Python.\n",
    "\n",
    "**NOTE:** It's recommended you start with something simple first. If you wish to do more, come back to it after you've completed the rest of the sections."
   ]
  },
  {
   "cell_type": "code",
   "execution_count": 3,
   "metadata": {},
   "outputs": [
    {
     "data": {
      "image/png": "[encoded data removed]",
      "text/plain": [
       "<matplotlib.figure.Figure at 0x55836d8>"
      ]
     },
     "metadata": {},
     "output_type": "display_data"
    }
   ],
   "source": [
    "### Data exploration visualization code goes here.\n",
    "### Feel free to use as many code cells as needed.\n",
    "import random\n",
    "import matplotlib.pyplot as plt\n",
    "# Visualizations will be shown in the notebook.\n",
    "%matplotlib inline\n",
    "\n",
    "def ShowImage(img):\n",
    "    plt.figure(figsize=(1,1))\n",
    "    if img.ndim == 3:\n",
    "        plt.imshow(img)\n",
    "    else:\n",
    "        plt.imshow(img, cmap=\"gray\")\n",
    "\n",
    "def SaveImg(img, filename):\n",
    "    plt.figure()\n",
    "    if img.ndim == 3:\n",
    "        plt.imshow(img)\n",
    "    else:\n",
    "        plt.imshow(img, cmap=\"gray\")\n",
    "    plt.savefig(filename)\n",
    "        \n",
    "def SaveTwoImg(img1, img2, filename):\n",
    "    fig = plt.figure()\n",
    "    ax0 = fig.add_subplot(121)\n",
    "    if img1.ndim == 3:\n",
    "        ax0.imshow(img1)\n",
    "    else:\n",
    "        ax0.imshow(img1, cmap=\"gray\")\n",
    "    ax1 = fig.add_subplot(122)\n",
    "    if img2.ndim == 3:\n",
    "        ax1.imshow(img2)\n",
    "    else:\n",
    "        ax1.imshow(img2, cmap=\"gray\")\n",
    "    plt.savefig(filename)        \n",
    "\n",
    "def SaveHistLabels(labels, filename):\n",
    "    n = np.unique(labels).shape[0]\n",
    "    bins = np.arange(0, n + 1, 1)\n",
    "    plt.hist(labels, bins=bins)\n",
    "    plt.savefig(filename)\n",
    "    plt.show()\n",
    "    \n",
    "def GetHistLabels(labels):\n",
    "    n = np.unique(labels).shape[0]\n",
    "    bins = np.arange(0, n + 1, 1)\n",
    "    hist, bins_edges = np.histogram(labels, bins=bins)\n",
    "    return hist\n",
    "\n",
    "SaveHistLabels(y_train, 'examples/hist_train_labels.png')\n",
    "hist_train = GetHistLabels(y_train)"
   ]
  },
  {
   "cell_type": "markdown",
   "metadata": {},
   "source": [
    "----\n",
    "\n",
    "## Step 2: Design and Test a Model Architecture\n",
    "\n",
    "Design and implement a deep learning model that learns to recognize traffic signs. Train and test your model on the [German Traffic Sign Dataset](http://benchmark.ini.rub.de/?section=gtsrb&subsection=dataset).\n",
    "\n",
    "The LeNet-5 implementation shown in the [classroom](https://classroom.udacity.com/nanodegrees/nd013/parts/fbf77062-5703-404e-b60c-95b78b2f3f9e/modules/6df7ae49-c61c-4bb2-a23e-6527e69209ec/lessons/601ae704-1035-4287-8b11-e2c2716217ad/concepts/d4aca031-508f-4e0b-b493-e7b706120f81) at the end of the CNN lesson is a solid starting point. You'll have to change the number of classes and possibly the preprocessing, but aside from that it's plug and play! \n",
    "\n",
    "With the LeNet-5 solution from the lecture, you should expect a validation set accuracy of about 0.89. To meet specifications, the validation set accuracy will need to be at least 0.93. It is possible to get an even higher accuracy, but 0.93 is the minimum for a successful project submission. \n",
    "\n",
    "There are various aspects to consider when thinking about this problem:\n",
    "\n",
    "- Neural network architecture (is the network over or underfitting?)\n",
    "- Play around preprocessing techniques (normalization, rgb to grayscale, etc)\n",
    "- Number of examples per label (some have more than others).\n",
    "- Generate fake data.\n",
    "\n",
    "Here is an example of a [published baseline model on this problem](http://yann.lecun.com/exdb/publis/pdf/sermanet-ijcnn-11.pdf). It's not required to be familiar with the approach used in the paper but, it's good practice to try to read papers like these."
   ]
  },
  {
   "cell_type": "markdown",
   "metadata": {},
   "source": [
    "### Pre-process the Data Set (normalization, grayscale, etc.)"
   ]
  },
  {
   "cell_type": "markdown",
   "metadata": {},
   "source": [
    "Use the code cell (or multiple code cells, if necessary) to implement the first step of your project."
   ]
  },
  {
   "cell_type": "code",
   "execution_count": 4,
   "metadata": {},
   "outputs": [],
   "source": [
    "### Preprocess the data here. Preprocessing steps could include normalization, converting to grayscale, etc.\n",
    "### Feel free to use as many code cells as needed.\n",
    "import tensorflow as tf\n",
    "from sklearn.utils import shuffle\n",
    "import cv2\n",
    "\n",
    "def HistogramEqualization(X):\n",
    "    clahe = cv2.createCLAHE(clipLimit=10.0, tileGridSize=(4,4))\n",
    "    #localized histogram equalization  \n",
    "    for i in range(X.shape[0]):\n",
    "        X[i][:,:,0] = clahe.apply(X[i])\n",
    "        \n",
    "    X = (X / 255.).astype(np.float32) \n",
    "    return X\n",
    "\n",
    "def ConvertToGrayscale(x):\n",
    "    x_shape = x.shape[0:3] + (1,)\n",
    "    outputX = np.ndarray(x_shape, np.uint8)\n",
    "    amountData = x.shape[0]\n",
    "    \n",
    "    for index in range(0, amountData):\n",
    "        grayscale = cv2.cvtColor(x[index], cv2.COLOR_RGB2GRAY)\n",
    "        outputX[index] = grayscale.reshape(grayscale.shape + (1,))        \n",
    "    \n",
    "    return outputX\n",
    "\n",
    "def PreprocessImages(x):\n",
    "    x = ConvertToGrayscale(x)\n",
    "    x = HistogramEqualization(x)\n",
    "    return x"
   ]
  },
  {
   "cell_type": "code",
   "execution_count": 5,
   "metadata": {},
   "outputs": [
    {
     "data": {
      "image/png": "[encoded data removed]",
      "text/plain": [
       "<matplotlib.figure.Figure at 0x49c7ef0>"
      ]
     },
     "metadata": {},
     "output_type": "display_data"
    },
    {
     "data": {
      "image/png": "[encoded data removed]",
      "text/plain": [
       "<matplotlib.figure.Figure at 0x14ab72b0>"
      ]
     },
     "metadata": {},
     "output_type": "display_data"
    }
   ],
   "source": [
    "#images showing the output of each preprocessing technique\n",
    "graySample = ConvertToGrayscale(X_train[21291:21292])\n",
    "SaveTwoImg(X_train[21291].squeeze(), graySample[0].squeeze(), \"examples/grayscaling.png\")\n",
    "equalizedSample = HistogramEqualization(graySample)\n",
    "SaveTwoImg(X_train[21291].squeeze(), equalizedSample[0].squeeze(), \"examples/equalization.png\")\n",
    "\n",
    "X_train = PreprocessImages(X_train)\n",
    "X_valid = PreprocessImages(X_valid)\n",
    "X_test = PreprocessImages(X_test)"
   ]
  },
  {
   "cell_type": "markdown",
   "metadata": {},
   "source": [
    "### Augmentation of training dataset (flipping, rotation, projection)"
   ]
  },
  {
   "cell_type": "code",
   "execution_count": 6,
   "metadata": {
    "collapsed": true
   },
   "outputs": [],
   "source": [
    "from skimage.transform import rotate\n",
    "from skimage.transform import warp\n",
    "from skimage.transform import ProjectiveTransform\n",
    "import copy\n",
    "\n",
    "def FlipExtend(X, y):\n",
    "    # Classes of signs that, when flipped horizontally, should still be classified as the same class\n",
    "    self_flippable_horizontally = np.array([11, 12, 13, 15, 17, 18, 22, 26, 30, 35])\n",
    "    # Classes of signs that, when flipped vertically, should still be classified as the same class\n",
    "    self_flippable_vertically = np.array([1, 5, 12, 15, 17])\n",
    "    # Classes of signs that, when flipped horizontally and then vertically, should still be classified as the same class\n",
    "    self_flippable_both = np.array([32, 40])\n",
    "    # Classes of signs that, when flipped horizontally, would still be meaningful, but should be classified as some other class\n",
    "    cross_flippable = np.array([\n",
    "        [19, 20], \n",
    "        [33, 34], \n",
    "        [36, 37], \n",
    "        [38, 39],\n",
    "        [20, 19], \n",
    "        [34, 33], \n",
    "        [37, 36], \n",
    "        [39, 38],   \n",
    "    ])\n",
    "    \n",
    "    X_extended = np.empty([0, X.shape[1], X.shape[2], X.shape[3]], dtype = X.dtype)\n",
    "    y_extended = np.empty([0], dtype = y.dtype)\n",
    "    \n",
    "    for c in range(n_classes):\n",
    "        # First copy existing data for this class\n",
    "        X_extended = np.append(X_extended, X[y == c], axis = 0)\n",
    "        # If we can flip images of this class horizontally and they would still belong to said class...\n",
    "        if c in self_flippable_horizontally:\n",
    "            # ...Copy their flipped versions into extended array.\n",
    "            X_extended = np.append(X_extended, X[y == c][:, :, ::-1, :], axis = 0)\n",
    "        # If we can flip images of this class horizontally and they would belong to other class...\n",
    "        if c in cross_flippable[:, 0]:\n",
    "            # ...Copy flipped images of that other class to the extended array.\n",
    "            flip_class = cross_flippable[cross_flippable[:, 0] == c][0][1]\n",
    "            X_extended = np.append(X_extended, X[y == flip_class][:, :, ::-1, :], axis = 0)\n",
    "        # Fill labels for added images set to current class.\n",
    "        y_extended = np.append(y_extended, np.full((X_extended.shape[0] - y_extended.shape[0]), c, dtype = int))\n",
    "        \n",
    "        # If we can flip images of this class vertically and they would still belong to said class...\n",
    "        if c in self_flippable_vertically:\n",
    "            # ...Copy their flipped versions into extended array.\n",
    "            X_extended = np.append(X_extended, X_extended[y_extended == c][:, ::-1, :, :], axis = 0)\n",
    "        # Fill labels for added images set to current class.\n",
    "        y_extended = np.append(y_extended, np.full((X_extended.shape[0] - y_extended.shape[0]), c, dtype = int))\n",
    "        \n",
    "        # If we can flip images of this class horizontally AND vertically and they would still belong to said class...\n",
    "        if c in self_flippable_both:\n",
    "            # ...Copy their flipped versions into extended array.\n",
    "            X_extended = np.append(X_extended, X_extended[y_extended == c][:, ::-1, ::-1, :], axis = 0)\n",
    "        # Fill labels for added images set to current class.\n",
    "        y_extended = np.append(y_extended, np.full((X_extended.shape[0] - y_extended.shape[0]), c, dtype = int))\n",
    "    \n",
    "    return (X_extended, y_extended)\n",
    "\n",
    "def Rotate(X):\n",
    "    for i in range(X.shape[0]):\n",
    "        X[i] = rotate(X[i].astype(np.float32), random.uniform(-20, 20), mode = 'edge')        \n",
    "    return X\n",
    "\n",
    "def ApplyProjectionTransform(X):\n",
    "    image_size = X.shape[1]\n",
    "    d = image_size * 0.2\n",
    "    for i in range(X.shape[0]):\n",
    "        tl_top = random.uniform(-d, d)     # Top left corner, top margin\n",
    "        tl_left = random.uniform(-d, d)    # Top left corner, left margin\n",
    "        bl_bottom = random.uniform(-d, d)  # Bottom left corner, bottom margin\n",
    "        bl_left = random.uniform(-d, d)    # Bottom left corner, left margin\n",
    "        tr_top = random.uniform(-d, d)     # Top right corner, top margin\n",
    "        tr_right = random.uniform(-d, d)   # Top right corner, right margin\n",
    "        br_bottom = random.uniform(-d, d)  # Bottom right corner, bottom margin\n",
    "        br_right = random.uniform(-d, d)   # Bottom right corner, right margin\n",
    "\n",
    "        \n",
    "        \n",
    "        transform = ProjectiveTransform()\n",
    "        transform.estimate(np.array((\n",
    "                (tl_left, tl_top),\n",
    "                (bl_left, image_size - bl_bottom),\n",
    "                (image_size - br_right, image_size - br_bottom),\n",
    "                (image_size - tr_right, tr_top)\n",
    "            )), np.array((\n",
    "                (0, 0),\n",
    "                (0, image_size),\n",
    "                (image_size, image_size),\n",
    "                (image_size, 0)\n",
    "            )))\n",
    "        X[i] = warp(X[i], transform, output_shape=(image_size, image_size), order = 1, mode = 'edge')\n",
    "\n",
    "    return X"
   ]
  },
  {
   "cell_type": "code",
   "execution_count": 7,
   "metadata": {},
   "outputs": [],
   "source": [
    "initAmountData = X_train.shape[0]\n",
    "X_train_extended = np.empty([0, X_train.shape[1], X_train.shape[2], X_train.shape[3]], dtype = X_train.dtype)\n",
    "y_train_extended = np.empty([0], dtype = y_train.dtype)\n",
    "\n",
    "X_train_extended = np.append(X_train_extended, X_train, axis = 0)\n",
    "y_train_extended = np.append(y_train_extended, y_train)\n",
    "\n",
    "amount_img_for_sign = 20000\n",
    "\n",
    "for c in range(n_classes):\n",
    "    x_flipped, y_flipped = FlipExtend(X_train[y_train==c], y_train[y_train==c])\n",
    "    \n",
    "    size_counter = (int)((amount_img_for_sign - hist_train[c])/x_flipped.shape[0])\n",
    "    \n",
    "    for index in range(size_counter):            \n",
    "        X_train_extended = np.append(X_train_extended, x_flipped, axis = 0)\n",
    "        y_train_extended = np.append(y_train_extended, y_flipped)\n",
    "\n",
    "X_train_extended[initAmountData:] = Rotate(X_train_extended[initAmountData:])\n",
    "X_train_extended[initAmountData:] = ApplyProjectionTransform(X_train_extended[initAmountData:])"
   ]
  },
  {
   "cell_type": "code",
   "execution_count": 8,
   "metadata": {},
   "outputs": [
    {
     "name": "stdout",
     "output_type": "stream",
     "text": [
      "(827997, 32, 32, 1)\n"
     ]
    },
    {
     "data": {
      "image/png": "[encoded data removed]",
      "text/plain": [
       "<matplotlib.figure.Figure at 0x15b5e320>"
      ]
     },
     "metadata": {},
     "output_type": "display_data"
    },
    {
     "data": {
      "image/png": "[encoded data removed]",
      "text/plain": [
       "<matplotlib.figure.Figure at 0x15db89b0>"
      ]
     },
     "metadata": {},
     "output_type": "display_data"
    }
   ],
   "source": [
    "print(X_train_extended.shape)\n",
    "SaveHistLabels(y_train_extended, 'examples/hist_train_extended_labels.png')\n",
    "\n",
    "SaveTwoImg(X_train_extended[y_train_extended==y_train_extended[initAmountData]][0].squeeze(), X_train_extended[initAmountData].squeeze(), \"examples/augmented_img.png\")"
   ]
  },
  {
   "cell_type": "markdown",
   "metadata": {},
   "source": [
    "### Model Architecture"
   ]
  },
  {
   "cell_type": "code",
   "execution_count": 9,
   "metadata": {
    "collapsed": true
   },
   "outputs": [],
   "source": [
    "def conv_layer(x, kernel_size, depth):\n",
    "    input_shape = x.shape[1:]\n",
    "    weights_shape = [kernel_size, kernel_size, int(input_shape[2]), depth]    \n",
    "    weights = tf.get_variable('weights', shape= weights_shape, \n",
    "                              initializer = tf.truncated_normal_initializer(mean = 0, stddev = 0.1))\n",
    "    biases = tf.get_variable('biases', shape=[depth], initializer = tf.constant_initializer(0.0))    \n",
    "    conv = tf.nn.conv2d(x, weights, strides=[1, 1, 1, 1], padding='SAME', name='conv')\n",
    "    return tf.nn.relu(conv + biases, name='relu')\n",
    "\n",
    "def fully_connected(x, output_size):\n",
    "    weights_shape = [int(x.shape[1]), output_size]\n",
    "    weights = tf.get_variable('weights', shape= weights_shape, \n",
    "                              initializer = tf.truncated_normal_initializer(mean = 0, stddev = 0.1))\n",
    "    biases = tf.get_variable('biases', shape=[output_size], initializer = tf.constant_initializer(0.0))\n",
    "    \n",
    "    return tf.matmul(x, weights) + biases"
   ]
  },
  {
   "cell_type": "code",
   "execution_count": 10,
   "metadata": {
    "collapsed": true
   },
   "outputs": [],
   "source": [
    "### Define your architecture here.\n",
    "### Feel free to use as many code cells as needed.\n",
    "\n",
    "from tensorflow.contrib.layers import flatten\n",
    "\n",
    "x = tf.placeholder(tf.float32, (None, image_shape[0], image_shape[1], X_train_extended.shape[3]))\n",
    "y = tf.placeholder(tf.int32, (None))\n",
    "one_hot_y = tf.one_hot(y, n_classes)\n",
    "keep_prob1 = tf.placeholder(tf.float32)\n",
    "keep_prob2 = tf.placeholder(tf.float32)\n",
    "keep_prob3 = tf.placeholder(tf.float32)\n",
    "keep_prob4 = tf.placeholder(tf.float32)\n",
    "\n",
    "def CnnModel(x):\n",
    "    \n",
    "    # Layer 1: Convolutional.\n",
    "    with tf.variable_scope('conv1'):\n",
    "        conv1 = conv_layer(x=x, kernel_size=5, depth=32)\n",
    "        conv1 = tf.nn.relu(conv1)\n",
    "        pool1 = tf.nn.max_pool(conv1, ksize=[1, 2, 2, 1], strides=[1, 2, 2, 1], padding='SAME')\n",
    "        pool1 = tf.nn.dropout(pool1, keep_prob1)\n",
    "    \n",
    "    # Layer 2: Convolutional.\n",
    "    with tf.variable_scope('conv2'):\n",
    "        conv2 = conv_layer(x=pool1, kernel_size=5, depth=64)\n",
    "        conv2 = tf.nn.relu(conv2)\n",
    "        pool2 = tf.nn.max_pool(conv2, ksize=[1, 2, 2, 1], strides=[1, 2, 2, 1], padding='SAME')\n",
    "        pool2 = tf.nn.dropout(pool2, keep_prob2)\n",
    "\n",
    "    # Layer 3: Convolutional.\n",
    "    with tf.variable_scope('conv3'):\n",
    "        conv3 = conv_layer(x=pool2, kernel_size=5, depth=128)\n",
    "        conv3 = tf.nn.relu(conv3)\n",
    "        pool3 = tf.nn.max_pool(conv3, ksize=[1, 2, 2, 1], strides=[1, 2, 2, 1], padding='SAME')\n",
    "        pool3 = tf.nn.dropout(pool3, keep_prob3)\n",
    "    \n",
    "    # Flatten.\n",
    "    pool1 = tf.nn.max_pool(pool1, ksize=[1, 4, 4, 1], strides=[1, 4, 4, 1], padding='SAME')\n",
    "    pool2 = tf.nn.max_pool(pool2, ksize=[1, 2, 2, 1], strides=[1, 2, 2, 1], padding='SAME')\n",
    "    flattened = tf.concat([flatten(pool1), flatten(pool2), flatten(pool3)], -1)\n",
    "\n",
    "    # Layer 4: Fully Connected.\n",
    "    with tf.variable_scope('fc4'):\n",
    "        fc4 = fully_connected(x=flattened, output_size=1024)\n",
    "        fc4 = tf.nn.relu(fc4)\n",
    "        fc4 = tf.nn.dropout(fc4, keep_prob4)\n",
    "    \n",
    "    # Layer 5: Fully Connected.\n",
    "    with tf.variable_scope('out'):\n",
    "        logits = fully_connected(x=fc4, output_size=n_classes)\n",
    "    \n",
    "    return logits"
   ]
  },
  {
   "cell_type": "markdown",
   "metadata": {},
   "source": [
    "### Train, Validate and Test the Model"
   ]
  },
  {
   "cell_type": "markdown",
   "metadata": {},
   "source": [
    "A validation set can be used to assess how well the model is performing. A low accuracy on the training and validation\n",
    "sets imply underfitting. A high accuracy on the training set but low accuracy on the validation set implies overfitting."
   ]
  },
  {
   "cell_type": "code",
   "execution_count": 11,
   "metadata": {
    "collapsed": true
   },
   "outputs": [],
   "source": [
    "### Train your model here.\n",
    "### Calculate and report the accuracy on the training and validation set.\n",
    "### Once a final model architecture is selected, \n",
    "### the accuracy on the test set should be calculated and reported as well.\n",
    "### Feel free to use as many code cells as needed.\n",
    "\n",
    "import math\n",
    "\n",
    "EPOCHS = 10\n",
    "BATCH_SIZE = 128\n",
    "\n",
    "rate = 0.001\n",
    "\n",
    "logits = CnnModel(x)\n",
    "\n",
    "cross_entropy = tf.nn.softmax_cross_entropy_with_logits(logits=logits, labels=one_hot_y)\n",
    "loss_operation = tf.reduce_mean(cross_entropy)\n",
    "optimizer = tf.train.AdamOptimizer(learning_rate = rate)\n",
    "training_operation = optimizer.minimize(loss_operation)\n",
    "\n",
    "predict_sign_operation = tf.argmax(logits, 1)\n",
    "top_softmax_prob = tf.nn.top_k(tf.nn.softmax(logits=logits), k=5)\n",
    "\n",
    "correct_prediction = tf.equal(tf.argmax(logits, 1), tf.argmax(one_hot_y, 1))\n",
    "accuracy_operation = tf.reduce_mean(tf.cast(correct_prediction, tf.float32))\n",
    "saver = tf.train.Saver()\n",
    "\n",
    "def evaluate(X_data, y_data):\n",
    "    num_examples = len(X_data)\n",
    "    total_accuracy = 0\n",
    "    sess = tf.get_default_session()\n",
    "    for offset in range(0, num_examples, BATCH_SIZE):\n",
    "        batch_x, batch_y = X_data[offset:offset+BATCH_SIZE], y_data[offset:offset+BATCH_SIZE]\n",
    "        accuracy = sess.run(accuracy_operation, feed_dict={x: batch_x, y: batch_y, keep_prob1: 1, keep_prob2: 1, keep_prob3: 1, keep_prob4: 1})\n",
    "        total_accuracy += (accuracy * len(batch_x))\n",
    "    return total_accuracy / num_examples\n"
   ]
  },
  {
   "cell_type": "code",
   "execution_count": 12,
   "metadata": {},
   "outputs": [
    {
     "name": "stdout",
     "output_type": "stream",
     "text": [
      "Training...\n",
      "\n",
      "EPOCH 1 ...\n",
      "Training Accuracy = 0.981\n",
      "Validation Accuracy = 0.981\n",
      "\n",
      "EPOCH 2 ...\n",
      "Training Accuracy = 0.992\n",
      "Validation Accuracy = 0.985\n",
      "\n",
      "EPOCH 3 ...\n",
      "Training Accuracy = 0.993\n",
      "Validation Accuracy = 0.988\n",
      "\n",
      "EPOCH 4 ...\n",
      "Training Accuracy = 0.995\n",
      "Validation Accuracy = 0.986\n",
      "\n",
      "EPOCH 5 ...\n",
      "Training Accuracy = 0.996\n",
      "Validation Accuracy = 0.987\n",
      "\n",
      "EPOCH 6 ...\n",
      "Training Accuracy = 0.996\n",
      "Validation Accuracy = 0.987\n",
      "\n",
      "EPOCH 7 ...\n",
      "Training Accuracy = 0.997\n",
      "Validation Accuracy = 0.988\n",
      "\n",
      "EPOCH 8 ...\n",
      "Training Accuracy = 0.997\n",
      "Validation Accuracy = 0.987\n",
      "\n",
      "EPOCH 9 ...\n",
      "Training Accuracy = 0.998\n",
      "Validation Accuracy = 0.988\n",
      "\n",
      "EPOCH 10 ...\n",
      "Training Accuracy = 0.996\n",
      "Validation Accuracy = 0.982\n",
      "\n",
      "Model saved\n"
     ]
    }
   ],
   "source": [
    "with tf.Session() as sess:\n",
    "    sess.run(tf.global_variables_initializer())\n",
    "    num_examples = len(X_train_extended)\n",
    "    \n",
    "    print(\"Training...\")\n",
    "    print()\n",
    "    for i in range(EPOCHS):\n",
    "        X_train_extended, y_train_extended = shuffle(X_train_extended, y_train_extended)\n",
    "        for offset in range(0, num_examples, BATCH_SIZE):\n",
    "            end = offset + BATCH_SIZE\n",
    "            batch_x, batch_y = X_train_extended[offset:end], y_train_extended[offset:end] \n",
    "            sess.run(training_operation, feed_dict={x: batch_x, y: batch_y, keep_prob1: 0.9, keep_prob2: 0.8, keep_prob3: 0.7, keep_prob4: 0.5})\n",
    "            \n",
    "        validation_accuracy = evaluate(X_valid, y_valid)\n",
    "        training_accuracy = evaluate(X_train_extended, y_train_extended)\n",
    "        print(\"EPOCH {} ...\".format(i+1))\n",
    "        print(\"Training Accuracy = {:.3f}\".format(training_accuracy))\n",
    "        print(\"Validation Accuracy = {:.3f}\".format(validation_accuracy))\n",
    "        print()\n",
    "        \n",
    "    saver.save(sess, './lenet')\n",
    "    print(\"Model saved\")"
   ]
  },
  {
   "cell_type": "code",
   "execution_count": 13,
   "metadata": {},
   "outputs": [
    {
     "name": "stdout",
     "output_type": "stream",
     "text": [
      "Training Accuracy = 0.996\n",
      "Validation Accuracy = 0.982\n",
      "Test Accuracy = 0.973\n"
     ]
    }
   ],
   "source": [
    "with tf.Session() as sess:\n",
    "    saver.restore(sess, tf.train.latest_checkpoint('.'))\n",
    "\n",
    "    training_accuracy = evaluate(X_train_extended, y_train_extended)\n",
    "    validation_accuracy = evaluate(X_valid, y_valid)\n",
    "    test_accuracy = evaluate(X_test, y_test)\n",
    "    \n",
    "    print(\"Training Accuracy = {:.3f}\".format(training_accuracy))\n",
    "    print(\"Validation Accuracy = {:.3f}\".format(validation_accuracy))\n",
    "    print(\"Test Accuracy = {:.3f}\".format(test_accuracy))"
   ]
  },
  {
   "cell_type": "markdown",
   "metadata": {},
   "source": [
    "---\n",
    "\n",
    "## Step 3: Test a Model on New Images\n",
    "\n",
    "To give yourself more insight into how your model is working, download at least five pictures of German traffic signs from the web and use your model to predict the traffic sign type.\n",
    "\n",
    "You may find `signnames.csv` useful as it contains mappings from the class id (integer) to the actual sign name."
   ]
  },
  {
   "cell_type": "markdown",
   "metadata": {},
   "source": [
    "### Load and Output the Images"
   ]
  },
  {
   "cell_type": "code",
   "execution_count": 14,
   "metadata": {},
   "outputs": [
    {
     "data": {
      "image/png": "[encoded data removed]",
      "text/plain": [
       "<matplotlib.figure.Figure at 0x14ab4278>"
      ]
     },
     "metadata": {},
     "output_type": "display_data"
    },
    {
     "data": {
      "image/png": "[encoded data removed]",
      "text/plain": [
       "<matplotlib.figure.Figure at 0x18941ef0>"
      ]
     },
     "metadata": {},
     "output_type": "display_data"
    },
    {
     "data": {
      "image/png": "[encoded data removed]",
      "text/plain": [
       "<matplotlib.figure.Figure at 0x1a5b1d30>"
      ]
     },
     "metadata": {},
     "output_type": "display_data"
    },
    {
     "data": {
      "image/png": "[encoded data removed]",
      "text/plain": [
       "<matplotlib.figure.Figure at 0x1a5c09b0>"
      ]
     },
     "metadata": {},
     "output_type": "display_data"
    },
    {
     "data": {
      "image/png": "[encoded data removed]",
      "text/plain": [
       "<matplotlib.figure.Figure at 0x19714b38>"
      ]
     },
     "metadata": {},
     "output_type": "display_data"
    }
   ],
   "source": [
    "### Load the images and plot them here.\n",
    "### Feel free to use as many code cells as needed.\n",
    "import csv\n",
    "\n",
    "def readTrafficSigns(path, file):\n",
    "    images = [] # images\n",
    "    labels = [] # corresponding labels\n",
    "    gtFile = open(path + file) # annotations file\n",
    "    gtReader = csv.reader(gtFile, delimiter=';') # csv parser for annotations file\n",
    "    #gtReader.next() # skip header\n",
    "    next(gtReader)\n",
    "    # loop over all images in current annotations file\n",
    "    for row in gtReader:\n",
    "        images.append(plt.imread(path + row[0])) # the 1th column is the filename\n",
    "        labels.append(int(row[7])) # the 8th column is the label\n",
    "    gtFile.close()\n",
    "    \n",
    "    return images, labels\n",
    "\n",
    "images, labels = readTrafficSigns(\"examples/\", \"test.csv\")\n",
    "labels = np.asarray(labels)\n",
    "\n",
    "for index in range(np.shape(images)[0]):\n",
    "    SaveImg(images[index].squeeze(), 'examples/traffic_sign_' + str(index) + '.png')\n",
    "    #ShowImage(images[index].squeeze())\n"
   ]
  },
  {
   "cell_type": "markdown",
   "metadata": {},
   "source": [
    "### Predict the Sign Type for Each Image"
   ]
  },
  {
   "cell_type": "code",
   "execution_count": 15,
   "metadata": {
    "collapsed": true
   },
   "outputs": [],
   "source": [
    "### Run the predictions here and use the model to output the prediction for each image.\n",
    "### Make sure to pre-process the images with the same pre-processing pipeline used earlier.\n",
    "### Feel free to use as many code cells as needed.\n",
    "\n",
    "def Scaling(x):\n",
    "    amountData = np.shape(x)[0]\n",
    "    x_shape = (amountData,) + (32,32,3)\n",
    "    tempX = np.ndarray(x_shape, np.uint8)\n",
    "    for index in range(0, amountData):\n",
    "        tempX[index] = cv2.resize(x[index], x_shape[1:3])\n",
    "    return tempX\n"
   ]
  },
  {
   "cell_type": "code",
   "execution_count": 16,
   "metadata": {
    "collapsed": true
   },
   "outputs": [],
   "source": [
    "testImages = Scaling(images)\n",
    "testImages = PreprocessImages(testImages)"
   ]
  },
  {
   "cell_type": "code",
   "execution_count": 17,
   "metadata": {},
   "outputs": [
    {
     "name": "stdout",
     "output_type": "stream",
     "text": [
      "[13 11 10  5  3]\n"
     ]
    }
   ],
   "source": [
    "with tf.Session() as sess:\n",
    "    saver.restore(sess, tf.train.latest_checkpoint('.'))\n",
    "    sess = tf.get_default_session()\n",
    "    \n",
    "    predicted_sign = sess.run(predict_sign_operation, feed_dict={x: testImages, keep_prob1: 1, keep_prob2: 1, keep_prob3: 1, keep_prob4: 1})\n",
    "    print(predicted_sign)"
   ]
  },
  {
   "cell_type": "markdown",
   "metadata": {},
   "source": [
    "### Analyze Performance"
   ]
  },
  {
   "cell_type": "code",
   "execution_count": 18,
   "metadata": {},
   "outputs": [
    {
     "name": "stdout",
     "output_type": "stream",
     "text": [
      "Test Accuracy =  100.0 %\n"
     ]
    }
   ],
   "source": [
    "### Calculate the accuracy for these 5 new images. \n",
    "### For example, if the model predicted 1 out of 5 signs correctly, it's 20% accurate on these new images.\n",
    "with tf.Session() as sess:\n",
    "    saver.restore(sess, tf.train.latest_checkpoint('.'))\n",
    "\n",
    "    test_accuracy = evaluate(testImages, labels)*100\n",
    "    print(\"Test Accuracy = \", test_accuracy, \"%\")"
   ]
  },
  {
   "cell_type": "markdown",
   "metadata": {},
   "source": [
    "### Output Top 5 Softmax Probabilities For Each Image Found on the Web"
   ]
  },
  {
   "cell_type": "markdown",
   "metadata": {},
   "source": [
    "For each of the new images, print out the model's softmax probabilities to show the **certainty** of the model's predictions (limit the output to the top 5 probabilities for each image). [`tf.nn.top_k`](https://www.tensorflow.org/versions/r0.12/api_docs/python/nn.html#top_k) could prove helpful here. \n",
    "\n",
    "The example below demonstrates how tf.nn.top_k can be used to find the top k predictions for each image.\n",
    "\n",
    "`tf.nn.top_k` will return the values and indices (class ids) of the top k predictions. So if k=3, for each sign, it'll return the 3 largest probabilities (out of a possible 43) and the correspoding class ids.\n",
    "\n",
    "Take this numpy array as an example. The values in the array represent predictions. The array contains softmax probabilities for five candidate images with six possible classes. `tk.nn.top_k` is used to choose the three classes with the highest probability:\n",
    "\n",
    "```\n",
    "# (5, 6) array\n",
    "a = np.array([[ 0.24879643,  0.07032244,  0.12641572,  0.34763842,  0.07893497,\n",
    "         0.12789202],\n",
    "       [ 0.28086119,  0.27569815,  0.08594638,  0.0178669 ,  0.18063401,\n",
    "         0.15899337],\n",
    "       [ 0.26076848,  0.23664738,  0.08020603,  0.07001922,  0.1134371 ,\n",
    "         0.23892179],\n",
    "       [ 0.11943333,  0.29198961,  0.02605103,  0.26234032,  0.1351348 ,\n",
    "         0.16505091],\n",
    "       [ 0.09561176,  0.34396535,  0.0643941 ,  0.16240774,  0.24206137,\n",
    "         0.09155967]])\n",
    "```\n",
    "\n",
    "Running it through `sess.run(tf.nn.top_k(tf.constant(a), k=3))` produces:\n",
    "\n",
    "```\n",
    "TopKV2(values=array([[ 0.34763842,  0.24879643,  0.12789202],\n",
    "       [ 0.28086119,  0.27569815,  0.18063401],\n",
    "       [ 0.26076848,  0.23892179,  0.23664738],\n",
    "       [ 0.29198961,  0.26234032,  0.16505091],\n",
    "       [ 0.34396535,  0.24206137,  0.16240774]]), indices=array([[3, 0, 5],\n",
    "       [0, 1, 4],\n",
    "       [0, 5, 1],\n",
    "       [1, 3, 5],\n",
    "       [1, 4, 3]], dtype=int32))\n",
    "```\n",
    "\n",
    "Looking just at the first row we get `[ 0.34763842,  0.24879643,  0.12789202]`, you can confirm these are the 3 largest probabilities in `a`. You'll also notice `[3, 0, 5]` are the corresponding indices."
   ]
  },
  {
   "cell_type": "code",
   "execution_count": 19,
   "metadata": {},
   "outputs": [
    {
     "name": "stdout",
     "output_type": "stream",
     "text": [
      "TopKV2(values=array([[  1.00000000e+00,   1.05078595e-21,   9.76452079e-22,\n",
      "          4.44673842e-25,   7.20038184e-27],\n",
      "       [  1.00000000e+00,   8.94472682e-35,   3.62979866e-37,\n",
      "          3.37250501e-41,   1.67455166e-42],\n",
      "       [  1.00000000e+00,   2.12289475e-23,   1.77916628e-23,\n",
      "          1.18841225e-24,   9.06942792e-32],\n",
      "       [  9.69035029e-01,   1.52533660e-02,   3.87175637e-03,\n",
      "          3.45783588e-03,   3.41215124e-03],\n",
      "       [  6.34504974e-01,   1.44834086e-01,   1.20748892e-01,\n",
      "          6.71594962e-02,   9.00623854e-03]], dtype=float32), indices=array([[13,  5, 12, 30, 20],\n",
      "       [11, 30, 27, 40, 12],\n",
      "       [10,  9, 42,  5, 20],\n",
      "       [ 5,  7,  1,  3,  2],\n",
      "       [ 3,  5,  2,  1,  0]]))\n"
     ]
    }
   ],
   "source": [
    "### Print out the top five softmax probabilities for the predictions on the German traffic sign images found on the web. \n",
    "### Feel free to use as many code cells as needed.\n",
    "\n",
    "with tf.Session() as sess:\n",
    "    saver.restore(sess, tf.train.latest_checkpoint('.'))\n",
    "    sess = tf.get_default_session()\n",
    "    \n",
    "    result = sess.run(top_softmax_prob, feed_dict={x: testImages, keep_prob1: 1, keep_prob2: 1, keep_prob3: 1, keep_prob4: 1})\n",
    "    print(result)"
   ]
  },
  {
   "cell_type": "markdown",
   "metadata": {},
   "source": [
    "---\n",
    "\n",
    "## Step 4: Visualize the Neural Network's State with Test Images\n",
    "\n",
    " This Section is not required to complete but acts as an additional excersise for understaning the output of a neural network's weights. While neural networks can be a great learning device they are often referred to as a black box. We can understand what the weights of a neural network look like better by plotting their feature maps. After successfully training your neural network you can see what it's feature maps look like by plotting the output of the network's weight layers in response to a test stimuli image. From these plotted feature maps, it's possible to see what characteristics of an image the network finds interesting. For a sign, maybe the inner network feature maps react with high activation to the sign's boundary outline or to the contrast in the sign's painted symbol.\n",
    "\n",
    " Provided for you below is the function code that allows you to get the visualization output of any tensorflow weight layer you want. The inputs to the function should be a stimuli image, one used during training or a new one you provided, and then the tensorflow variable name that represents the layer's state during the training process, for instance if you wanted to see what the [LeNet lab's](https://classroom.udacity.com/nanodegrees/nd013/parts/fbf77062-5703-404e-b60c-95b78b2f3f9e/modules/6df7ae49-c61c-4bb2-a23e-6527e69209ec/lessons/601ae704-1035-4287-8b11-e2c2716217ad/concepts/d4aca031-508f-4e0b-b493-e7b706120f81) feature maps looked like for it's second convolutional layer you could enter conv2 as the tf_activation variable.\n",
    "\n",
    "For an example of what feature map outputs look like, check out NVIDIA's results in their paper [End-to-End Deep Learning for Self-Driving Cars](https://devblogs.nvidia.com/parallelforall/deep-learning-self-driving-cars/) in the section Visualization of internal CNN State. NVIDIA was able to show that their network's inner weights had high activations to road boundary lines by comparing feature maps from an image with a clear path to one without. Try experimenting with a similar test to show that your trained network's weights are looking for interesting features, whether it's looking at differences in feature maps from images with or without a sign, or even what feature maps look like in a trained network vs a completely untrained one on the same sign image.\n",
    "\n",
    "<figure>\n",
    " <img src=\"visualize_cnn.png\" width=\"380\" alt=\"Combined Image\" />\n",
    " <figcaption>\n",
    " <p></p> \n",
    " <p style=\"text-align: center;\"> Your output should look something like this (above)</p> \n",
    " </figcaption>\n",
    "</figure>\n",
    " <p></p> \n"
   ]
  },
  {
   "cell_type": "code",
   "execution_count": 20,
   "metadata": {
    "collapsed": true
   },
   "outputs": [],
   "source": [
    "### Visualize your network's feature maps here.\n",
    "### Feel free to use as many code cells as needed.\n",
    "\n",
    "# image_input: the test image being fed into the network to produce the feature maps\n",
    "# tf_activation: should be a tf variable name used during your training procedure that represents the calculated state of a specific weight layer\n",
    "# activation_min/max: can be used to view the activation contrast in more detail, by default matplot sets min and max to the actual min and max values of the output\n",
    "# plt_num: used to plot out multiple different weight feature map sets on the same block, just extend the plt number for each new feature map entry\n",
    "\n",
    "def outputFeatureMap(image_input, tf_activation, activation_min=-1, activation_max=-1 ,plt_num=1):\n",
    "    # Here make sure to preprocess your image_input in a way your network expects\n",
    "    # with size, normalization, ect if needed\n",
    "    # image_input =\n",
    "    # Note: x should be the same name as your network's tensorflow data placeholder variable\n",
    "    # If you get an error tf_activation is not defined it maybe having trouble accessing the variable from inside a function\n",
    "    #activation = tf_activation.eval(session=sess,feed_dict={x : image_input})\n",
    "    activation = tf.get_default_session().run(tf_activation, feed_dict={x : image_input, keep_prob1: 1, keep_prob2: 1, keep_prob3: 1, keep_prob4: 1})\n",
    "    featuremaps = activation.shape[3]\n",
    "    plt.figure(figsize=(15,15))\n",
    "    for featuremap in range(featuremaps):\n",
    "        plt.subplot(6,8, featuremap+1) # sets the number of feature maps to show on each row and column\n",
    "        plt.title('FeatureMap ' + str(featuremap)) # displays the feature map number\n",
    "        if activation_min != -1 & activation_max != -1:\n",
    "            plt.imshow(activation[0,:,:, featuremap], interpolation=\"nearest\", vmin =activation_min, vmax=activation_max, cmap=\"gray\")\n",
    "        elif activation_max != -1:\n",
    "            plt.imshow(activation[0,:,:, featuremap], interpolation=\"nearest\", vmax=activation_max, cmap=\"gray\")\n",
    "        elif activation_min !=-1:\n",
    "            plt.imshow(activation[0,:,:, featuremap], interpolation=\"nearest\", vmin=activation_min, cmap=\"gray\")\n",
    "        else:\n",
    "            plt.imshow(activation[:,:,0, featuremap], interpolation=\"nearest\", cmap=\"gray\")"
   ]
  },
  {
   "cell_type": "code",
   "execution_count": 21,
   "metadata": {},
   "outputs": [
    {
     "data": {
      "image/png": "[encoded data removed]",
      "text/plain": [
       "<matplotlib.figure.Figure at 0x1994abe0>"
      ]
     },
     "metadata": {},
     "output_type": "display_data"
    }
   ],
   "source": [
    "with tf.Session() as sess:\n",
    "    saver.restore(sess, tf.train.latest_checkpoint('.'))\n",
    "    number = 4\n",
    "    with tf.variable_scope('conv1', reuse=True):\n",
    "        outputFeatureMap(testImages[number:number+1], tf.get_variable('weights', [5, 5, 1, 32]))"
   ]
  },
  {
   "cell_type": "markdown",
   "metadata": {},
   "source": [
    "### Question 9\n",
    "\n",
    "Discuss how you used the visual output of your trained network's feature maps to show that it had learned to look for interesting characteristics in traffic sign images\n"
   ]
  },
  {
   "cell_type": "markdown",
   "metadata": {},
   "source": [
    "**Answer:**\n",
    "To show that Cnn had learned to look for interesting characteristics in traffic sign images, we can visualize weights of the first convolutional layer. We usually expect the first layer to contain filters that can detect very basic pixel patterns, like edges and lines."
   ]
  },
  {
   "cell_type": "markdown",
   "metadata": {},
   "source": [
    "> **Note**: Once you have completed all of the code implementations and successfully answered each question above, you may finalize your work by exporting the iPython Notebook as an HTML document. You can do this by using the menu above and navigating to  \\n\",\n",
    "    \"**File -> Download as -> HTML (.html)**. Include the finished document along with this notebook as your submission."
   ]
  },
  {
   "cell_type": "markdown",
   "metadata": {},
   "source": [
    "### Project Writeup\n",
    "\n",
    "Once you have completed the code implementation, document your results in a project writeup using this [template](https://github.com/udacity/CarND-Traffic-Sign-Classifier-Project/blob/master/writeup_template.md) as a guide. The writeup can be in a markdown or pdf file. "
   ]
  },
  {
   "cell_type": "code",
   "execution_count": null,
   "metadata": {
    "collapsed": true
   },
   "outputs": [],
   "source": []
  }
 ],
 "metadata": {
  "anaconda-cloud": {},
  "celltoolbar": "Raw Cell Format",
  "kernelspec": {
   "display_name": "Python 3",
   "language": "python",
   "name": "python3"
  },
  "language_info": {
   "codemirror_mode": {
    "name": "ipython",
    "version": 3
   },
   "file_extension": ".py",
   "mimetype": "text/x-python",
   "name": "python",
   "nbconvert_exporter": "python",
   "pygments_lexer": "ipython3",
   "version": "3.5.3"
  }
 },
 "nbformat": 4,
 "nbformat_minor": 1
}
